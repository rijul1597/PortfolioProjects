{
 "cells": [
  {
   "cell_type": "code",
   "execution_count": 16,
   "metadata": {},
   "outputs": [
    {
     "name": "stdout",
     "output_type": "stream",
     "text": [
      "enter n value9\n",
      "                *   \n",
      "              *   *   \n",
      "            *   *   *   \n",
      "          *   *   *   *   \n",
      "        *   *   *   *   *   \n",
      "      *   *   *   *   *   *   \n",
      "    *   *   *   *   *   *   *   \n",
      "  *   *   *   *   *   *   *   *   \n",
      "*   *   *   *   *   *   *   *   *   \n",
      "  *   *   *   *   *   *   *   *   \n",
      "    *   *   *   *   *   *   *   \n",
      "      *   *   *   *   *   *   \n",
      "        *   *   *   *   *   \n",
      "          *   *   *   *   \n",
      "            *   *   *   \n",
      "              *   *   \n",
      "                *   \n"
     ]
    }
   ],
   "source": [
    "n=int(input(\"enter n value\"))\n",
    "for i in range(n):\n",
    "    print(\"  \"*(n-i-1)+\"*   \"*(i+1))\n",
    "for i in range(n-1):\n",
    "         print(\"  \"*(i+1)+\"*   \"*(n-i-1))"
   ]
  },
  {
   "cell_type": "code",
   "execution_count": 26,
   "metadata": {},
   "outputs": [
    {
     "name": "stdout",
     "output_type": "stream",
     "text": [
      "enter n value9\n",
      " *   *   *   *   *   *   *   *   *   \n",
      "   *   *   *   *   *   *   *   *   \n",
      "     *   *   *   *   *   *   *   \n",
      "       *   *   *   *   *   *   \n",
      "         *   *   *   *   *   \n",
      "           *   *   *   *   \n",
      "             *   *   *   \n",
      "               *   *   \n",
      "                 *   \n"
     ]
    }
   ],
   "source": [
    "n=int(input(\"enter n value\"))\n",
    "for i in range(n):\n",
    "    print(\"  \"*i,end=\" \")\n",
    "    for j in range(n-i):\n",
    "         print(\"*  \",end=\" \")\n",
    "    print()    \n"
   ]
  },
  {
   "cell_type": "code",
   "execution_count": 25,
   "metadata": {},
   "outputs": [
    {
     "name": "stdout",
     "output_type": "stream",
     "text": [
      "enter n value9\n",
      " *   *   *   *   *   *   *   *   *   \n",
      "   *   *   *   *   *   *   *   *   \n",
      "     *   *   *   *   *   *   *   \n",
      "       *   *   *   *   *   *   \n",
      "         *   *   *   *   *   \n",
      "           *   *   *   *   \n",
      "             *   *   *   \n",
      "               *   *   \n",
      "                 *   \n",
      "                 *   \n",
      "               *   *   \n",
      "             *   *   *   \n",
      "           *   *   *   *   \n",
      "         *   *   *   *   *   \n",
      "       *   *   *   *   *   *   \n",
      "     *   *   *   *   *   *   *   \n",
      "   *   *   *   *   *   *   *   *   \n",
      " *   *   *   *   *   *   *   *   *   \n"
     ]
    }
   ],
   "source": [
    "n=int(input(\"enter n value\"))\n",
    "for i in range(n):\n",
    "    print(\"  \"*i,end=\" \")\n",
    "    for j in range(n-i):\n",
    "         print(\"*  \",end=\" \")\n",
    "    print()    \n",
    "for i in range(n):\n",
    "    print(\"  \"*(n-i-1),end=\" \")\n",
    "    for j in range(i+1):\n",
    "        print(\"*  \",end=\" \")\n",
    "    print()    \n",
    "    \n",
    "\n",
    "    "
   ]
  },
  {
   "cell_type": "code",
   "execution_count": 64,
   "metadata": {},
   "outputs": [
    {
     "name": "stdout",
     "output_type": "stream",
     "text": [
      "enter n value7\n",
      "* * * * * * * \n",
      "* * * * * * \n",
      "* * * * * \n",
      "* * * * \n",
      "* * * \n",
      "* * \n",
      "* \n"
     ]
    }
   ],
   "source": [
    "n=int(input(\"enter n value\"))\n",
    "for i in range(n):\n",
    "    print(\"* \"*(n-i))\n",
    "    \n"
   ]
  },
  {
   "cell_type": "code",
   "execution_count": 76,
   "metadata": {},
   "outputs": [
    {
     "name": "stdout",
     "output_type": "stream",
     "text": [
      "enter n value7\n",
      "            * \n",
      "          * * \n",
      "        * * * \n",
      "      * * * * \n",
      "    * * * * * \n",
      "  * * * * * * \n",
      "* * * * * * * \n",
      "  * * * * * * \n",
      "    * * * * * \n",
      "      * * * * \n",
      "        * * * \n",
      "          * * \n",
      "            * \n",
      "* \n",
      "* * \n",
      "* * * \n",
      "* * * * \n",
      "* * * * * \n",
      "* * * * * * \n",
      "* * * * * * * \n",
      "* * * * * * \n",
      "* * * * * \n",
      "* * * * \n",
      "* * * \n",
      "* * \n",
      "* \n"
     ]
    }
   ],
   "source": [
    "n=int(input(\"enter n value\"))\n",
    "for i in range(n):\n",
    "    print(\"  \"*(n-i-1)+\"* \"*(i+1))\n",
    "for i in range(n-1):\n",
    "    print(\"  \"*(i+1)+\"* \"*(n-i-1))\n",
    "    \n",
    "for i in range(n):\n",
    "    print(\"\"*(n-i-1)+\"* \"*(i+1))\n",
    "for i in range(n-1):\n",
    "    print(\"\"*(i+1)+\"* \"*(n-i-1))"
   ]
  },
  {
   "cell_type": "code",
   "execution_count": 30,
   "metadata": {},
   "outputs": [
    {
     "name": "stdout",
     "output_type": "stream",
     "text": [
      "enter n value7\n",
      "      1\n",
      "     22\n",
      "    333\n",
      "   4444\n",
      "  55555\n",
      " 666666\n",
      "7777777\n"
     ]
    }
   ],
   "source": [
    "n=int(input(\"enter n value\"))\n",
    "for i in range(0,n):\n",
    "    print(\" \"*(n-i-1),end=\"\")\n",
    "    for j in range(0,i+1):\n",
    "        print(i+1,end=\"\")\n",
    "    print()    "
   ]
  },
  {
   "cell_type": "code",
   "execution_count": 33,
   "metadata": {},
   "outputs": [
    {
     "name": "stdout",
     "output_type": "stream",
     "text": [
      "enter n value7\n",
      "      *\n",
      "     **\n",
      "    ***\n",
      "   ****\n",
      "  *****\n",
      " ******\n",
      "*******\n"
     ]
    }
   ],
   "source": [
    "n=int(input(\"enter n value\"))\n",
    "for i in range(0,n):\n",
    "    print(\" \"*(n-i-1),end=\"\")\n",
    "    for j in range(0,i+1):\n",
    "        print(\"*\",end=\"\")\n",
    "    print()    "
   ]
  },
  {
   "cell_type": "code",
   "execution_count": 35,
   "metadata": {},
   "outputs": [
    {
     "name": "stdout",
     "output_type": "stream",
     "text": [
      "enter n value4\n",
      "1\n",
      "23\n",
      "456\n",
      "78910\n"
     ]
    }
   ],
   "source": [
    "n=int(input(\"enter n value\"))\n",
    "num=1\n",
    "for i in range(1,n+1):\n",
    "    for j in range(1,i+1):\n",
    "        print(num,end=\"\")\n",
    "        num=num+1\n",
    "    print()    "
   ]
  },
  {
   "cell_type": "code",
   "execution_count": 38,
   "metadata": {},
   "outputs": [
    {
     "name": "stdout",
     "output_type": "stream",
     "text": [
      "enter n value5\n",
      "55555\n",
      "4444\n",
      "333\n",
      "22\n",
      "1\n"
     ]
    }
   ],
   "source": [
    "n=int(input(\"enter n value\"))\n",
    "for i in range(n+1,1,-1):\n",
    "    print(\"\"*(n+1-i),end=\"\")\n",
    "    for j in range(1,i):\n",
    "        print(i-1,end=\"\")\n",
    "    print()    "
   ]
  },
  {
   "cell_type": "code",
   "execution_count": 60,
   "metadata": {},
   "outputs": [
    {
     "name": "stdout",
     "output_type": "stream",
     "text": [
      "enter n value7\n",
      "*******\n",
      "******\n",
      "*****\n",
      "****\n",
      "***\n",
      "**\n",
      "*\n",
      "*******\n",
      " ******\n",
      "  *****\n",
      "   ****\n",
      "    ***\n",
      "     **\n",
      "      *\n",
      "       "
     ]
    }
   ],
   "source": [
    "n=int(input(\"enter n value\"))\n",
    "for i in range(n,0,-1):\n",
    "    for j in range(0,i):\n",
    "        print(\"*\",end=\"\")  \n",
    "    print()    \n",
    "    \n",
    "for i in range(n,0,-1):\n",
    "    s=i-1\n",
    "    for j in range(0,i):\n",
    "        print(\"*\",end=\"\")  \n",
    "    print()    \n",
    "    for k in range(0,n-s):\n",
    "        print(\" \",end=\"\")\n",
    "     \n",
    "\n",
    "    "
   ]
  },
  {
   "cell_type": "code",
   "execution_count": 61,
   "metadata": {},
   "outputs": [
    {
     "name": "stdout",
     "output_type": "stream",
     "text": [
      "      * \n",
      "     * * \n",
      "    * * * \n",
      "   * * * * \n",
      "  * * * * * \n",
      " * * * * * * \n",
      "* * * * * * * \n",
      " * * * * * * \n",
      "  * * * * * \n",
      "   * * * * \n",
      "    * * * \n",
      "     * * \n",
      "      * \n"
     ]
    }
   ],
   "source": [
    "for i in range(n):\n",
    "    print(\" \"*(n-i-1)+\"* \"*(i+1))\n",
    "for i in range(n-1):\n",
    "    print(\" \"*(i+1)+\"* \"*(n-i-1))"
   ]
  }
 ],
 "metadata": {
  "kernelspec": {
   "display_name": "Python 3 (ipykernel)",
   "language": "python",
   "name": "python3"
  },
  "language_info": {
   "codemirror_mode": {
    "name": "ipython",
    "version": 3
   },
   "file_extension": ".py",
   "mimetype": "text/x-python",
   "name": "python",
   "nbconvert_exporter": "python",
   "pygments_lexer": "ipython3",
   "version": "3.10.7"
  }
 },
 "nbformat": 4,
 "nbformat_minor": 4
}
